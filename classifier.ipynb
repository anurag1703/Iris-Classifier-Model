{
 "cells": [
  {
   "cell_type": "markdown",
   "metadata": {},
   "source": [
    "# Iris Flower Classification Project\n",
    "## Project Overview\n",
    "This project focuses on building a machine learning model to classify Iris flowers into one of three species:\n",
    "\n",
    "Iris-setosa.\n",
    "Iris-versicolor.\n",
    "Iris-virginica.\n",
    "\n",
    "The classification is based on four key features of the flower:\n",
    "\n",
    "Sepal Length (in cm)\n",
    "Sepal Width (in cm)\n",
    "Petal Length (in cm)\n",
    "Petal Width (in cm)\n",
    "\n",
    "## Key Objectives:\n",
    "~Perform exploratory data analysis (EDA) to gain insights into feature relationships and distributions.\n",
    "\n",
    "~Preprocess the data, including encoding categorical labels and standardizing numerical features.\n",
    "\n",
    "~Train and compare multiple classification algorithms to determine the best-performing model.\n",
    "\n",
    "~Deploy the model using Streamlit, creating an interactive interface for real-time predictions.\n",
    "\n",
    "## Steps in the Workflow\n",
    "~Data Ingestion:\n",
    "Load the Iris dataset and validate its structure.\n",
    "\n",
    "~Exploratory Data Analysis (EDA):\n",
    "Visualize feature distributions and correlations to understand the dataset.\n",
    "\n",
    "~Preprocessing:\n",
    "Encode the species column into numeric labels (0, 1, 2).\n",
    "Scale the input features for consistent model performance.\n",
    "\n",
    "~Model Development:\n",
    "Train and evaluate multiple machine learning models (Logistic Regression, KNN, Decision Tree, Random Forest, SVM).\n",
    "Select the best model based on accuracy and classification metrics.\n",
    "\n",
    "~Deployment:\n",
    "Deploy the final model using a Streamlit app for user interaction and predictions.\n"
   ]
  },
  {
   "cell_type": "markdown",
   "metadata": {},
   "source": [
    "## Import the Libraries"
   ]
  },
  {
   "cell_type": "code",
   "execution_count": 25,
   "metadata": {},
   "outputs": [],
   "source": [
    "# Import Libraries\n",
    "import pandas as pd\n",
    "import numpy as np\n",
    "import seaborn as sns\n",
    "import matplotlib.pyplot as plt\n",
    "from sklearn.model_selection import train_test_split, GridSearchCV\n",
    "from sklearn.preprocessing import StandardScaler\n",
    "from sklearn.metrics import classification_report, confusion_matrix, accuracy_score\n",
    "from sklearn.linear_model import LogisticRegression\n",
    "from sklearn.neighbors import KNeighborsClassifier\n",
    "from sklearn.tree import DecisionTreeClassifier\n",
    "from sklearn.ensemble import RandomForestClassifier\n",
    "from sklearn.svm import SVC\n",
    "import joblib\n"
   ]
  },
  {
   "cell_type": "markdown",
   "metadata": {},
   "source": [
    "## Load the Dataset"
   ]
  },
  {
   "cell_type": "code",
   "execution_count": null,
   "metadata": {},
   "outputs": [
    {
     "name": "stdout",
     "output_type": "stream",
     "text": [
      "First 5 Rows:\n",
      "    SepalLengthCm  SepalWidthCm  PetalLengthCm  PetalWidthCm      Species\n",
      "0            5.1           3.5            1.4           0.2  Iris-setosa\n",
      "1            4.9           3.0            1.4           0.2  Iris-setosa\n",
      "2            4.7           3.2            1.3           0.2  Iris-setosa\n",
      "3            4.6           3.1            1.5           0.2  Iris-setosa\n",
      "4            5.0           3.6            1.4           0.2  Iris-setosa\n",
      "\n",
      "Data Information:\n",
      "\n",
      "<class 'pandas.core.frame.DataFrame'>\n",
      "RangeIndex: 150 entries, 0 to 149\n",
      "Data columns (total 5 columns):\n",
      " #   Column         Non-Null Count  Dtype  \n",
      "---  ------         --------------  -----  \n",
      " 0   SepalLengthCm  150 non-null    float64\n",
      " 1   SepalWidthCm   150 non-null    float64\n",
      " 2   PetalLengthCm  150 non-null    float64\n",
      " 3   PetalWidthCm   150 non-null    float64\n",
      " 4   Species        150 non-null    object \n",
      "dtypes: float64(4), object(1)\n",
      "memory usage: 6.0+ KB\n",
      "\n",
      "Missing Values:\n",
      " SepalLengthCm    0\n",
      "SepalWidthCm     0\n",
      "PetalLengthCm    0\n",
      "PetalWidthCm     0\n",
      "Species          0\n",
      "dtype: int64\n",
      "\n",
      "Duplicate Rows: 3\n"
     ]
    }
   ],
   "source": [
    "file_path = \"C:\\\\Users\\\\anura\\\\Desktop\\\\Project 3- Iris classification\\\\Data\\\\Iris.csv\" \n",
    "data = pd.read_csv(file_path)\n",
    "\n",
    "# Validate Data\n",
    "print(\"First 5 Rows:\\n\", data.head())\n",
    "print(\"\\nData Information:\\n\")\n",
    "data.info()\n",
    "print(\"\\nMissing Values:\\n\", data.isnull().sum())\n",
    "print(\"\\nDuplicate Rows:\", data.duplicated().sum())\n"
   ]
  },
  {
   "cell_type": "code",
   "execution_count": 27,
   "metadata": {},
   "outputs": [
    {
     "name": "stdout",
     "output_type": "stream",
     "text": [
      "Column Names in Dataset: Index(['SepalLengthCm', 'SepalWidthCm', 'PetalLengthCm', 'PetalWidthCm',\n",
      "       'Species'],\n",
      "      dtype='object')\n"
     ]
    }
   ],
   "source": [
    "print(\"Column Names in Dataset:\", data.columns)\n"
   ]
  },
  {
   "cell_type": "markdown",
   "metadata": {},
   "source": [
    "# Drop Duplicates"
   ]
  },
  {
   "cell_type": "code",
   "execution_count": null,
   "metadata": {},
   "outputs": [],
   "source": [
    "data = data.drop_duplicates()"
   ]
  },
  {
   "cell_type": "markdown",
   "metadata": {},
   "source": [
    "# Feature-Target Split"
   ]
  },
  {
   "cell_type": "code",
   "execution_count": null,
   "metadata": {},
   "outputs": [],
   "source": [
    "X = data.drop(\"Species\", axis=1)\n",
    "y = data[\"Species\"]"
   ]
  },
  {
   "cell_type": "markdown",
   "metadata": {},
   "source": [
    "# Train-Test Split"
   ]
  },
  {
   "cell_type": "code",
   "execution_count": null,
   "metadata": {},
   "outputs": [],
   "source": [
    "from sklearn.model_selection import train_test_split\n",
    "X_train, X_test, y_train, y_test = train_test_split(X, y, test_size=0.2, random_state=42)"
   ]
  },
  {
   "cell_type": "markdown",
   "metadata": {},
   "source": [
    "# Standardize Features"
   ]
  },
  {
   "cell_type": "code",
   "execution_count": null,
   "metadata": {},
   "outputs": [],
   "source": [
    "scaler = StandardScaler()\n",
    "X_train_scaled = scaler.fit_transform(X_train)\n",
    "X_test_scaled = scaler.transform(X_test)"
   ]
  },
  {
   "cell_type": "markdown",
   "metadata": {},
   "source": [
    "# One-Hot Encoding"
   ]
  },
  {
   "cell_type": "code",
   "execution_count": null,
   "metadata": {},
   "outputs": [
    {
     "name": "stdout",
     "output_type": "stream",
     "text": [
      "Encoded Species Column:\n",
      "       Species  Species_encoded\n",
      "0  Iris-setosa                0\n",
      "1  Iris-setosa                0\n",
      "2  Iris-setosa                0\n",
      "3  Iris-setosa                0\n",
      "4  Iris-setosa                0\n",
      "\n",
      "Correlation Matrix:\n",
      "                 SepalLengthCm  SepalWidthCm  PetalLengthCm  PetalWidthCm  \\\n",
      "SepalLengthCm         1.000000     -0.109321       0.871305      0.817058   \n",
      "SepalWidthCm         -0.109321      1.000000      -0.421057     -0.356376   \n",
      "PetalLengthCm         0.871305     -0.421057       1.000000      0.961883   \n",
      "PetalWidthCm          0.817058     -0.356376       0.961883      1.000000   \n",
      "Species_encoded       0.782904     -0.418348       0.948339      0.955693   \n",
      "\n",
      "                 Species_encoded  \n",
      "SepalLengthCm           0.782904  \n",
      "SepalWidthCm           -0.418348  \n",
      "PetalLengthCm           0.948339  \n",
      "PetalWidthCm            0.955693  \n",
      "Species_encoded         1.000000  \n"
     ]
    }
   ],
   "source": [
    "from sklearn.preprocessing import LabelEncoder\n",
    "\n",
    "# Initialize LabelEncoder\n",
    "label_encoder = LabelEncoder()\n",
    "\n",
    "data[\"Species_encoded\"] = label_encoder.fit_transform(data[\"Species\"])\n",
    "\n",
    "# Verify the transformation\n",
    "print(\"Encoded Species Column:\")\n",
    "print(data[[\"Species\", \"Species_encoded\"]].head())\n",
    "\n",
    "# Use numeric columns for correlation matrix\n",
    "numeric_data = data.select_dtypes(include=[np.number])\n",
    "correlation_matrix = numeric_data.corr()\n",
    "\n",
    "# Display the correlation matrix\n",
    "print(\"\\nCorrelation Matrix:\")\n",
    "print(correlation_matrix)\n"
   ]
  },
  {
   "cell_type": "markdown",
   "metadata": {},
   "source": [
    "# Correlation matrix and heatmap"
   ]
  },
  {
   "cell_type": "code",
   "execution_count": null,
   "metadata": {},
   "outputs": [
    {
     "name": "stdout",
     "output_type": "stream",
     "text": [
      "Data Types:\n",
      " SepalLengthCm      float64\n",
      "SepalWidthCm       float64\n",
      "PetalLengthCm      float64\n",
      "PetalWidthCm       float64\n",
      "Species             object\n",
      "Species_encoded      int64\n",
      "dtype: object\n"
     ]
    },
    {
     "data": {
      "image/png": "[encoded data removed]",
      "text/plain": [
       "<Figure size 640x480 with 2 Axes>"
      ]
     },
     "metadata": {},
     "output_type": "display_data"
    }
   ],
   "source": [
    "print(\"Data Types:\\n\", data.dtypes)\n",
    "\n",
    "# Filter numeric columns\n",
    "numeric_data = data.select_dtypes(include=[np.number])\n",
    "\n",
    "correlation_matrix = numeric_data.corr()\n",
    "sns.heatmap(correlation_matrix, annot=True, cmap=\"coolwarm\")\n",
    "plt.title(\"Feature Correlations\")\n",
    "plt.show()\n"
   ]
  },
  {
   "cell_type": "markdown",
   "metadata": {},
   "source": [
    "# Model training and Selection"
   ]
  },
  {
   "cell_type": "code",
   "execution_count": null,
   "metadata": {},
   "outputs": [
    {
     "name": "stdout",
     "output_type": "stream",
     "text": [
      "Logistic Regression Accuracy: 0.9333333333333333\n",
      "                 precision    recall  f1-score   support\n",
      "\n",
      "    Iris-setosa       1.00      1.00      1.00        11\n",
      "Iris-versicolor       0.90      0.90      0.90        10\n",
      " Iris-virginica       0.89      0.89      0.89         9\n",
      "\n",
      "       accuracy                           0.93        30\n",
      "      macro avg       0.93      0.93      0.93        30\n",
      "   weighted avg       0.93      0.93      0.93        30\n",
      "\n",
      "\n",
      "\n",
      "KNN Accuracy: 0.9333333333333333\n",
      "                 precision    recall  f1-score   support\n",
      "\n",
      "    Iris-setosa       1.00      1.00      1.00        11\n",
      "Iris-versicolor       0.90      0.90      0.90        10\n",
      " Iris-virginica       0.89      0.89      0.89         9\n",
      "\n",
      "       accuracy                           0.93        30\n",
      "      macro avg       0.93      0.93      0.93        30\n",
      "   weighted avg       0.93      0.93      0.93        30\n",
      "\n",
      "\n",
      "\n",
      "Decision Tree Accuracy: 0.9333333333333333\n",
      "                 precision    recall  f1-score   support\n",
      "\n",
      "    Iris-setosa       1.00      1.00      1.00        11\n",
      "Iris-versicolor       0.90      0.90      0.90        10\n",
      " Iris-virginica       0.89      0.89      0.89         9\n",
      "\n",
      "       accuracy                           0.93        30\n",
      "      macro avg       0.93      0.93      0.93        30\n",
      "   weighted avg       0.93      0.93      0.93        30\n",
      "\n",
      "\n",
      "\n",
      "Random Forest Accuracy: 0.9333333333333333\n",
      "                 precision    recall  f1-score   support\n",
      "\n",
      "    Iris-setosa       1.00      1.00      1.00        11\n",
      "Iris-versicolor       0.90      0.90      0.90        10\n",
      " Iris-virginica       0.89      0.89      0.89         9\n",
      "\n",
      "       accuracy                           0.93        30\n",
      "      macro avg       0.93      0.93      0.93        30\n",
      "   weighted avg       0.93      0.93      0.93        30\n",
      "\n",
      "\n",
      "\n",
      "SVM Accuracy: 0.9333333333333333\n",
      "                 precision    recall  f1-score   support\n",
      "\n",
      "    Iris-setosa       1.00      1.00      1.00        11\n",
      "Iris-versicolor       0.90      0.90      0.90        10\n",
      " Iris-virginica       0.89      0.89      0.89         9\n",
      "\n",
      "       accuracy                           0.93        30\n",
      "      macro avg       0.93      0.93      0.93        30\n",
      "   weighted avg       0.93      0.93      0.93        30\n",
      "\n",
      "\n",
      "\n",
      "Best Model: LogisticRegression()\n",
      "Best Accuracy: 0.9333333333333333\n"
     ]
    }
   ],
   "source": [
    "models = {\n",
    "    \"Logistic Regression\": LogisticRegression(),\n",
    "    \"KNN\": KNeighborsClassifier(),\n",
    "    \"Decision Tree\": DecisionTreeClassifier(),\n",
    "    \"Random Forest\": RandomForestClassifier(),\n",
    "    \"SVM\": SVC()\n",
    "}\n",
    "\n",
    "# Train and Evaluate Models\n",
    "best_model = None\n",
    "best_accuracy = 0\n",
    "\n",
    "for name, model in models.items():\n",
    "    # Train Model\n",
    "    model.fit(X_train_scaled, y_train)\n",
    "    # Predict\n",
    "    predictions = model.predict(X_test_scaled)\n",
    "    # Evaluate\n",
    "    acc = accuracy_score(y_test, predictions)\n",
    "    print(f\"{name} Accuracy: {acc}\")\n",
    "    print(classification_report(y_test, predictions))\n",
    "    print(\"\\n\")\n",
    "    \n",
    "    # Track Best Model\n",
    "    if acc > best_accuracy:\n",
    "        best_accuracy = acc\n",
    "        best_model = model\n",
    "\n",
    "print(f\"Best Model: {best_model}\")\n",
    "print(f\"Best Accuracy: {best_accuracy}\")\n"
   ]
  },
  {
   "cell_type": "markdown",
   "metadata": {},
   "source": [
    "# Model Packaging and Saving"
   ]
  },
  {
   "cell_type": "code",
   "execution_count": null,
   "metadata": {},
   "outputs": [
    {
     "name": "stdout",
     "output_type": "stream",
     "text": [
      "Model and Scaler Saved as iris_model.pkl and iris_scaler.pkl!\n"
     ]
    }
   ],
   "source": [
    "\n",
    "joblib.dump(best_model, \"iris_model.pkl\")\n",
    "joblib.dump(scaler, \"iris_scaler.pkl\")\n",
    "\n",
    "print(\"Model and Scaler Saved as iris_model.pkl and iris_scaler.pkl!\")\n"
   ]
  },
  {
   "cell_type": "markdown",
   "metadata": {},
   "source": [
    "# Model Loading and Predictions"
   ]
  },
  {
   "cell_type": "code",
   "execution_count": null,
   "metadata": {},
   "outputs": [
    {
     "name": "stdout",
     "output_type": "stream",
     "text": [
      "Predicted Species: Iris-versicolor\n"
     ]
    }
   ],
   "source": [
    "loaded_model = joblib.load(\"iris_model.pkl\")\n",
    "loaded_scaler = joblib.load(\"iris_scaler.pkl\")\n",
    "\n",
    "# Test the Loaded Model\n",
    "sample_input = np.array([[5.1, 3.5, 1.4, 0.2]])  # Example input\n",
    "sample_scaled = loaded_scaler.transform(sample_input)\n",
    "prediction = loaded_model.predict(sample_scaled)\n",
    "\n",
    "print(f\"Predicted Species: {prediction[0]}\")\n"
   ]
  }
 ],
 "metadata": {
  "kernelspec": {
   "display_name": "Python 3",
   "language": "python",
   "name": "python3"
  },
  "language_info": {
   "codemirror_mode": {
    "name": "ipython",
    "version": 3
   },
   "file_extension": ".py",
   "mimetype": "text/x-python",
   "name": "python",
   "nbconvert_exporter": "python",
   "pygments_lexer": "ipython3",
   "version": "3.10.0"
  }
 },
 "nbformat": 4,
 "nbformat_minor": 2
}
